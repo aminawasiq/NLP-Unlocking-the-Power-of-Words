{
  "nbformat": 4,
  "nbformat_minor": 0,
  "metadata": {
    "colab": {
      "provenance": []
    },
    "kernelspec": {
      "name": "python3",
      "display_name": "Python 3"
    },
    "language_info": {
      "name": "python"
    }
  },
  "cells": [
    {
      "cell_type": "markdown",
      "source": [
        "# **MACHINE LEARNINGFOR TEXT MINING**\n",
        "\n",
        "\n",
        "### **Traditional Programming vs. Machine Learning**\n",
        "\n",
        "**Traditional Programming:**\n",
        "- In traditional programming, explicit rules and instructions are written by developers to dictate how a computer should handle various scenarios. Each possible situation is accounted for by the programmer, and the system follows these predefined instructions.\n",
        "\n",
        "**Machine Learning:**\n",
        "- Machine learning (ML) differs in that it allows computers to learn from data rather than relying solely on explicit instructions. ML algorithms can analyze large datasets, identify patterns, and make predictions or decisions based on the data. As the system is exposed to more data, it can improve its performance over time without requiring specific reprogramming.\n",
        "\n",
        "### **Types of Text That Can Be Analyzed**\n",
        "- **Tweets**\n",
        "- **Facebook Posts**\n",
        "- **Comments**\n",
        "- **Blogs**\n",
        "- **Product/Customer Reviews**\n",
        "- **News Articles**\n",
        "- **Media Reports**\n",
        "\n",
        "### **Text Analysis Process**\n",
        "\n",
        "1. **Data Collection:**\n",
        "   - **Crawling:** Using web crawlers or robots to gather data from various sources.\n",
        "   - **APIs:** Accessing data through application programming interfaces provided by platforms.\n",
        "\n",
        "2. **Text Preprocessing:**\n",
        "   - **Tokenization:** Breaking text into individual words or tokens.\n",
        "   - **Stemming:** Reducing words to their base or root form.\n",
        "   - **Lemmatization:** Converting words to their base or dictionary form while considering context.\n",
        "   - **Stop Words Removal:** Filtering out common words that do not contribute to the meaning (e.g., \"the,\" \"is\").\n",
        "\n",
        "3. **Transformation:**\n",
        "   - **Feature Extraction:** Identifying and extracting relevant features from the text.\n",
        "   - **Embedding:** Representing words or phrases in a numerical format that captures semantic meaning (e.g., word embeddings).\n",
        "\n",
        "4. **Data Mining and Analysis:**\n",
        "   - **Knowledge Extraction:** Identifying patterns and insights from the text data.\n",
        "   - **Machine Learning:** Applying algorithms to learn from the data and make predictions or classifications.\n",
        "\n",
        "5. **Evaluation and Interpretation:**\n",
        "   - **Interpretation:** Understanding the results and insights derived from the analysis.\n",
        "   - **Result Analysis:** Assessing the effectiveness and accuracy of the text analysis process and refining the approach as needed.\n",
        "\n",
        "This process encompasses the journey from gathering raw text data to extracting meaningful insights and improving decision-making using advanced analytical techniques."
      ],
      "metadata": {
        "id": "opUMfUFsJlwy"
      }
    },
    {
      "cell_type": "code",
      "source": [
        "import pandas as pd"
      ],
      "metadata": {
        "id": "Aks6JG7gLQLp"
      },
      "execution_count": null,
      "outputs": []
    },
    {
      "cell_type": "markdown",
      "source": [
        "## **STEP1 – COLLECTINGDATA**"
      ],
      "metadata": {
        "id": "a31ehyWAQ2LF"
      }
    },
    {
      "cell_type": "code",
      "execution_count": null,
      "metadata": {
        "id": "ZuW06-kEz0LM",
        "colab": {
          "base_uri": "https://localhost:8080/",
          "height": 206
        },
        "outputId": "c242310d-a4e0-44f1-b55a-6a357b569e12"
      },
      "outputs": [
        {
          "output_type": "execute_result",
          "data": {
            "text/plain": [
              "                                              review  sentiment\n",
              "0  I went and saw this movie last night after bei...          1\n",
              "1  Actor turned director Bill Paxton follows up h...          1\n",
              "2  As a recreational golfer with some knowledge o...          1\n",
              "3  I saw this film in a sneak preview, and it is ...          1\n",
              "4  Bill Paxton has taken the true story of the 19...          1"
            ],
            "text/html": [
              "\n",
              "  <div id=\"df-b7989f3f-edee-46c9-98ea-f7bc7651865f\" class=\"colab-df-container\">\n",
              "    <div>\n",
              "<style scoped>\n",
              "    .dataframe tbody tr th:only-of-type {\n",
              "        vertical-align: middle;\n",
              "    }\n",
              "\n",
              "    .dataframe tbody tr th {\n",
              "        vertical-align: top;\n",
              "    }\n",
              "\n",
              "    .dataframe thead th {\n",
              "        text-align: right;\n",
              "    }\n",
              "</style>\n",
              "<table border=\"1\" class=\"dataframe\">\n",
              "  <thead>\n",
              "    <tr style=\"text-align: right;\">\n",
              "      <th></th>\n",
              "      <th>review</th>\n",
              "      <th>sentiment</th>\n",
              "    </tr>\n",
              "  </thead>\n",
              "  <tbody>\n",
              "    <tr>\n",
              "      <th>0</th>\n",
              "      <td>I went and saw this movie last night after bei...</td>\n",
              "      <td>1</td>\n",
              "    </tr>\n",
              "    <tr>\n",
              "      <th>1</th>\n",
              "      <td>Actor turned director Bill Paxton follows up h...</td>\n",
              "      <td>1</td>\n",
              "    </tr>\n",
              "    <tr>\n",
              "      <th>2</th>\n",
              "      <td>As a recreational golfer with some knowledge o...</td>\n",
              "      <td>1</td>\n",
              "    </tr>\n",
              "    <tr>\n",
              "      <th>3</th>\n",
              "      <td>I saw this film in a sneak preview, and it is ...</td>\n",
              "      <td>1</td>\n",
              "    </tr>\n",
              "    <tr>\n",
              "      <th>4</th>\n",
              "      <td>Bill Paxton has taken the true story of the 19...</td>\n",
              "      <td>1</td>\n",
              "    </tr>\n",
              "  </tbody>\n",
              "</table>\n",
              "</div>\n",
              "    <div class=\"colab-df-buttons\">\n",
              "\n",
              "  <div class=\"colab-df-container\">\n",
              "    <button class=\"colab-df-convert\" onclick=\"convertToInteractive('df-b7989f3f-edee-46c9-98ea-f7bc7651865f')\"\n",
              "            title=\"Convert this dataframe to an interactive table.\"\n",
              "            style=\"display:none;\">\n",
              "\n",
              "  <svg xmlns=\"http://www.w3.org/2000/svg\" height=\"24px\" viewBox=\"0 -960 960 960\">\n",
              "    <path d=\"M120-120v-720h720v720H120Zm60-500h600v-160H180v160Zm220 220h160v-160H400v160Zm0 220h160v-160H400v160ZM180-400h160v-160H180v160Zm440 0h160v-160H620v160ZM180-180h160v-160H180v160Zm440 0h160v-160H620v160Z\"/>\n",
              "  </svg>\n",
              "    </button>\n",
              "\n",
              "  <style>\n",
              "    .colab-df-container {\n",
              "      display:flex;\n",
              "      gap: 12px;\n",
              "    }\n",
              "\n",
              "    .colab-df-convert {\n",
              "      background-color: #E8F0FE;\n",
              "      border: none;\n",
              "      border-radius: 50%;\n",
              "      cursor: pointer;\n",
              "      display: none;\n",
              "      fill: #1967D2;\n",
              "      height: 32px;\n",
              "      padding: 0 0 0 0;\n",
              "      width: 32px;\n",
              "    }\n",
              "\n",
              "    .colab-df-convert:hover {\n",
              "      background-color: #E2EBFA;\n",
              "      box-shadow: 0px 1px 2px rgba(60, 64, 67, 0.3), 0px 1px 3px 1px rgba(60, 64, 67, 0.15);\n",
              "      fill: #174EA6;\n",
              "    }\n",
              "\n",
              "    .colab-df-buttons div {\n",
              "      margin-bottom: 4px;\n",
              "    }\n",
              "\n",
              "    [theme=dark] .colab-df-convert {\n",
              "      background-color: #3B4455;\n",
              "      fill: #D2E3FC;\n",
              "    }\n",
              "\n",
              "    [theme=dark] .colab-df-convert:hover {\n",
              "      background-color: #434B5C;\n",
              "      box-shadow: 0px 1px 3px 1px rgba(0, 0, 0, 0.15);\n",
              "      filter: drop-shadow(0px 1px 2px rgba(0, 0, 0, 0.3));\n",
              "      fill: #FFFFFF;\n",
              "    }\n",
              "  </style>\n",
              "\n",
              "    <script>\n",
              "      const buttonEl =\n",
              "        document.querySelector('#df-b7989f3f-edee-46c9-98ea-f7bc7651865f button.colab-df-convert');\n",
              "      buttonEl.style.display =\n",
              "        google.colab.kernel.accessAllowed ? 'block' : 'none';\n",
              "\n",
              "      async function convertToInteractive(key) {\n",
              "        const element = document.querySelector('#df-b7989f3f-edee-46c9-98ea-f7bc7651865f');\n",
              "        const dataTable =\n",
              "          await google.colab.kernel.invokeFunction('convertToInteractive',\n",
              "                                                    [key], {});\n",
              "        if (!dataTable) return;\n",
              "\n",
              "        const docLinkHtml = 'Like what you see? Visit the ' +\n",
              "          '<a target=\"_blank\" href=https://colab.research.google.com/notebooks/data_table.ipynb>data table notebook</a>'\n",
              "          + ' to learn more about interactive tables.';\n",
              "        element.innerHTML = '';\n",
              "        dataTable['output_type'] = 'display_data';\n",
              "        await google.colab.output.renderOutput(dataTable, element);\n",
              "        const docLink = document.createElement('div');\n",
              "        docLink.innerHTML = docLinkHtml;\n",
              "        element.appendChild(docLink);\n",
              "      }\n",
              "    </script>\n",
              "  </div>\n",
              "\n",
              "\n",
              "<div id=\"df-64b6abac-d364-4fd2-a977-895fe4585ca6\">\n",
              "  <button class=\"colab-df-quickchart\" onclick=\"quickchart('df-64b6abac-d364-4fd2-a977-895fe4585ca6')\"\n",
              "            title=\"Suggest charts\"\n",
              "            style=\"display:none;\">\n",
              "\n",
              "<svg xmlns=\"http://www.w3.org/2000/svg\" height=\"24px\"viewBox=\"0 0 24 24\"\n",
              "     width=\"24px\">\n",
              "    <g>\n",
              "        <path d=\"M19 3H5c-1.1 0-2 .9-2 2v14c0 1.1.9 2 2 2h14c1.1 0 2-.9 2-2V5c0-1.1-.9-2-2-2zM9 17H7v-7h2v7zm4 0h-2V7h2v10zm4 0h-2v-4h2v4z\"/>\n",
              "    </g>\n",
              "</svg>\n",
              "  </button>\n",
              "\n",
              "<style>\n",
              "  .colab-df-quickchart {\n",
              "      --bg-color: #E8F0FE;\n",
              "      --fill-color: #1967D2;\n",
              "      --hover-bg-color: #E2EBFA;\n",
              "      --hover-fill-color: #174EA6;\n",
              "      --disabled-fill-color: #AAA;\n",
              "      --disabled-bg-color: #DDD;\n",
              "  }\n",
              "\n",
              "  [theme=dark] .colab-df-quickchart {\n",
              "      --bg-color: #3B4455;\n",
              "      --fill-color: #D2E3FC;\n",
              "      --hover-bg-color: #434B5C;\n",
              "      --hover-fill-color: #FFFFFF;\n",
              "      --disabled-bg-color: #3B4455;\n",
              "      --disabled-fill-color: #666;\n",
              "  }\n",
              "\n",
              "  .colab-df-quickchart {\n",
              "    background-color: var(--bg-color);\n",
              "    border: none;\n",
              "    border-radius: 50%;\n",
              "    cursor: pointer;\n",
              "    display: none;\n",
              "    fill: var(--fill-color);\n",
              "    height: 32px;\n",
              "    padding: 0;\n",
              "    width: 32px;\n",
              "  }\n",
              "\n",
              "  .colab-df-quickchart:hover {\n",
              "    background-color: var(--hover-bg-color);\n",
              "    box-shadow: 0 1px 2px rgba(60, 64, 67, 0.3), 0 1px 3px 1px rgba(60, 64, 67, 0.15);\n",
              "    fill: var(--button-hover-fill-color);\n",
              "  }\n",
              "\n",
              "  .colab-df-quickchart-complete:disabled,\n",
              "  .colab-df-quickchart-complete:disabled:hover {\n",
              "    background-color: var(--disabled-bg-color);\n",
              "    fill: var(--disabled-fill-color);\n",
              "    box-shadow: none;\n",
              "  }\n",
              "\n",
              "  .colab-df-spinner {\n",
              "    border: 2px solid var(--fill-color);\n",
              "    border-color: transparent;\n",
              "    border-bottom-color: var(--fill-color);\n",
              "    animation:\n",
              "      spin 1s steps(1) infinite;\n",
              "  }\n",
              "\n",
              "  @keyframes spin {\n",
              "    0% {\n",
              "      border-color: transparent;\n",
              "      border-bottom-color: var(--fill-color);\n",
              "      border-left-color: var(--fill-color);\n",
              "    }\n",
              "    20% {\n",
              "      border-color: transparent;\n",
              "      border-left-color: var(--fill-color);\n",
              "      border-top-color: var(--fill-color);\n",
              "    }\n",
              "    30% {\n",
              "      border-color: transparent;\n",
              "      border-left-color: var(--fill-color);\n",
              "      border-top-color: var(--fill-color);\n",
              "      border-right-color: var(--fill-color);\n",
              "    }\n",
              "    40% {\n",
              "      border-color: transparent;\n",
              "      border-right-color: var(--fill-color);\n",
              "      border-top-color: var(--fill-color);\n",
              "    }\n",
              "    60% {\n",
              "      border-color: transparent;\n",
              "      border-right-color: var(--fill-color);\n",
              "    }\n",
              "    80% {\n",
              "      border-color: transparent;\n",
              "      border-right-color: var(--fill-color);\n",
              "      border-bottom-color: var(--fill-color);\n",
              "    }\n",
              "    90% {\n",
              "      border-color: transparent;\n",
              "      border-bottom-color: var(--fill-color);\n",
              "    }\n",
              "  }\n",
              "</style>\n",
              "\n",
              "  <script>\n",
              "    async function quickchart(key) {\n",
              "      const quickchartButtonEl =\n",
              "        document.querySelector('#' + key + ' button');\n",
              "      quickchartButtonEl.disabled = true;  // To prevent multiple clicks.\n",
              "      quickchartButtonEl.classList.add('colab-df-spinner');\n",
              "      try {\n",
              "        const charts = await google.colab.kernel.invokeFunction(\n",
              "            'suggestCharts', [key], {});\n",
              "      } catch (error) {\n",
              "        console.error('Error during call to suggestCharts:', error);\n",
              "      }\n",
              "      quickchartButtonEl.classList.remove('colab-df-spinner');\n",
              "      quickchartButtonEl.classList.add('colab-df-quickchart-complete');\n",
              "    }\n",
              "    (() => {\n",
              "      let quickchartButtonEl =\n",
              "        document.querySelector('#df-64b6abac-d364-4fd2-a977-895fe4585ca6 button');\n",
              "      quickchartButtonEl.style.display =\n",
              "        google.colab.kernel.accessAllowed ? 'block' : 'none';\n",
              "    })();\n",
              "  </script>\n",
              "</div>\n",
              "    </div>\n",
              "  </div>\n"
            ],
            "application/vnd.google.colaboratory.intrinsic+json": {
              "type": "dataframe",
              "variable_name": "data",
              "summary": "{\n  \"name\": \"data\",\n  \"rows\": 50000,\n  \"fields\": [\n    {\n      \"column\": \"review\",\n      \"properties\": {\n        \"dtype\": \"string\",\n        \"num_unique_values\": 49582,\n        \"samples\": [\n          \"Due to reading bad reviews and being told by friends that they couldn't believe how bad it was, I didn't go and see this film at the cinema. After watching it on DVD, I have to say I regret that now. I'm not saying it is brilliant, but I would venture to say that it is a good movie. I enjoyed it.<br /><br />People have skulls thicker than Ned's helmet if they go to see a movie like this and expect it to be a documentary. If you read up the actual history behind most movies based on historical figures, there is usually a huge difference between the fact and the fictional portrayal. I don't think Ganghis Kahn has ever once been portrayed even remotely close to historical fact. What kind of man Ned Kelly actually was is a matter of debate, and quite passionate it seems. In spite of the efforts of governments and some historians, Ned Kelly has become a legend. Legends are stories, and stories say as much about those who tell and listen to them as they do about the actual figure himself. Ned Kelly has become such a popular identity because he does represent that aspect of Australian culture that doesn't trust or accept authority. A society in which there is no dissent or challenge to authority is crazier and more dangerous than any bushranger.<br /><br />So not expecting this to be an accurate recreation of the historical Kelly gang, I actually found it a surprisingly unencumbered and refreshing movie. It was sentimental and romantic, but thankfully not anywhere as cheesy as it could have been; for my fellow Australians, watch 'The Lighthorseman' and you will see what I mean (it is a pity the way that story was treated so poorly). Perhaps the love affair business could have been forsaken for a bit more detail in other areas, such as the shooting of the troopers. Ironically, I actually enjoyed the movie because of that, because it would be those details that most of the focus on Ned's story would dwell. And they are the details of the story that are best discovered by reading the different viewpoints given by the various historians.<br /><br />This movie was always going to have a hard time, having make a compromise of appealing to a global movie market (to pay the pills) and the legend as it means to Australians; perhaps a little of Ned's spirit is in this movie, because I think it rebelled against people's expectations, and unfortunately missed both targets. Fortunately it made for an enjoyable quirk of a film. For me it was an unexpected kind of movie about Ned, and that is why I liked it. Orlando Bloom's performance did a lot for the movie too - he really added something. I think he would have enjoyed being the monster instead of the pretty elf, for a change.<br /><br />When you consider some other movies that are far worse than this one, your opinion of this movie should be reconsidered. Send me this on DVD for christmas rather than Croc Dundee or The Man From Snowy River anytime.\",\n          \"The funniest scene of this movie is probably when our saviours get their medals and plaques and whatnot. So the basic idea is, the police outnumbers these gangsters by like a million to one, but they're powerless because the villains' guns are just a bit bigger. I guess police ammo just kinda bounces of. They decided to shoot this movie in documentary style with fake interviews and all and seriously, what is wrong with these guys? They're talking like they were armed with rolled-up newspapers. Okay I admit, it's probably still dangerous to be in the line of the fire, even when the situation is so much to your advantage, but don't go nuts. And why the hell did it take 44 minutes to solve everything anyway? I'd say that's a very long time when you have them surrounded and you're allowed to shoot. They're like ten ft. away, they hit absolutely nothing. Then they go and buy bigger guns themselves to increase their heroism. And then yeah, there you have it, one of the cops actually hits someone. Bullet was probably diverted by a lamp post or something. I had a good laugh I guess.\",\n          \"Do not bother to waste your money on this movie. Do not even go into your car and think that you might see this movie if any others do not appeal to you. If you must see a movie this weekend, go see Batman again.<br /><br />The script was horrible. Perfectly written from the random horror movie format. Given: a place in confined spaces, a madman with various weapons, a curious man who manages to uncover all of the clues that honest police officers cannot put together, and an innocent and overly curious, yet beautiful and strong woman with whom many in the audience would love to be able to call their girlfriend. Mix together, add much poorly executed gore, and what the hell, let's put some freaks in there for a little \\\"spin\\\" to the plot.<br /><br />The acting was horrible, and the characters unbelievable - Borat was more believable than this.<br /><br />***Spoiler***and can someone please tell me how a butcher's vest can make a bullet ricochet from the person after being shot without even making the person who was shot flinch??? I'm in the army. We need that kind of stuff for ourselves.<br /><br />1 out of 10, and I would place it in the decimals of that rounded up to give it the lowest possible score I can.\"\n        ],\n        \"semantic_type\": \"\",\n        \"description\": \"\"\n      }\n    },\n    {\n      \"column\": \"sentiment\",\n      \"properties\": {\n        \"dtype\": \"number\",\n        \"std\": 0,\n        \"min\": 0,\n        \"max\": 1,\n        \"num_unique_values\": 2,\n        \"samples\": [\n          0,\n          1\n        ],\n        \"semantic_type\": \"\",\n        \"description\": \"\"\n      }\n    }\n  ]\n}"
            }
          },
          "metadata": {},
          "execution_count": 3
        }
      ],
      "source": [
        "data = pd.read_csv(\"/content/sample_data/Movie_Review.csv\")\n",
        "\n",
        "data.head()"
      ]
    },
    {
      "cell_type": "markdown",
      "source": [
        "## **STEP2 – EXPLORINGAND PREPARING THE DATA**\n"
      ],
      "metadata": {
        "id": "GszoYE6KUlss"
      }
    },
    {
      "cell_type": "markdown",
      "source": [
        "In data analysis, checking for null values is crucial to ensure data quality and integrity. The method data.isnull().sum() is used to identify and count missing values within a DataFrame."
      ],
      "metadata": {
        "id": "vQKbEtwPYH9t"
      }
    },
    {
      "cell_type": "code",
      "source": [
        "# checking for null values\n",
        "data.isnull().sum()"
      ],
      "metadata": {
        "id": "3BqGHGN_30Vn",
        "colab": {
          "base_uri": "https://localhost:8080/",
          "height": 147
        },
        "outputId": "492a0b2e-5158-405e-950c-2a216f202ffa"
      },
      "execution_count": null,
      "outputs": [
        {
          "output_type": "execute_result",
          "data": {
            "text/plain": [
              "review       0\n",
              "sentiment    0\n",
              "dtype: int64"
            ],
            "text/html": [
              "<div>\n",
              "<style scoped>\n",
              "    .dataframe tbody tr th:only-of-type {\n",
              "        vertical-align: middle;\n",
              "    }\n",
              "\n",
              "    .dataframe tbody tr th {\n",
              "        vertical-align: top;\n",
              "    }\n",
              "\n",
              "    .dataframe thead th {\n",
              "        text-align: right;\n",
              "    }\n",
              "</style>\n",
              "<table border=\"1\" class=\"dataframe\">\n",
              "  <thead>\n",
              "    <tr style=\"text-align: right;\">\n",
              "      <th></th>\n",
              "      <th>0</th>\n",
              "    </tr>\n",
              "  </thead>\n",
              "  <tbody>\n",
              "    <tr>\n",
              "      <th>review</th>\n",
              "      <td>0</td>\n",
              "    </tr>\n",
              "    <tr>\n",
              "      <th>sentiment</th>\n",
              "      <td>0</td>\n",
              "    </tr>\n",
              "  </tbody>\n",
              "</table>\n",
              "</div><br><label><b>dtype:</b> int64</label>"
            ]
          },
          "metadata": {},
          "execution_count": 4
        }
      ]
    },
    {
      "cell_type": "code",
      "source": [
        "# checking for number of sentiment in sentiment column\n",
        "data.sentiment.value_counts()"
      ],
      "metadata": {
        "id": "9KVI-LMk31Sh",
        "colab": {
          "base_uri": "https://localhost:8080/",
          "height": 178
        },
        "outputId": "2d208797-0c66-400e-de7e-011dfd727b33"
      },
      "execution_count": null,
      "outputs": [
        {
          "output_type": "execute_result",
          "data": {
            "text/plain": [
              "sentiment\n",
              "1    25000\n",
              "0    25000\n",
              "Name: count, dtype: int64"
            ],
            "text/html": [
              "<div>\n",
              "<style scoped>\n",
              "    .dataframe tbody tr th:only-of-type {\n",
              "        vertical-align: middle;\n",
              "    }\n",
              "\n",
              "    .dataframe tbody tr th {\n",
              "        vertical-align: top;\n",
              "    }\n",
              "\n",
              "    .dataframe thead th {\n",
              "        text-align: right;\n",
              "    }\n",
              "</style>\n",
              "<table border=\"1\" class=\"dataframe\">\n",
              "  <thead>\n",
              "    <tr style=\"text-align: right;\">\n",
              "      <th></th>\n",
              "      <th>count</th>\n",
              "    </tr>\n",
              "    <tr>\n",
              "      <th>sentiment</th>\n",
              "      <th></th>\n",
              "    </tr>\n",
              "  </thead>\n",
              "  <tbody>\n",
              "    <tr>\n",
              "      <th>1</th>\n",
              "      <td>25000</td>\n",
              "    </tr>\n",
              "    <tr>\n",
              "      <th>0</th>\n",
              "      <td>25000</td>\n",
              "    </tr>\n",
              "  </tbody>\n",
              "</table>\n",
              "</div><br><label><b>dtype:</b> int64</label>"
            ]
          },
          "metadata": {},
          "execution_count": 5
        }
      ]
    },
    {
      "cell_type": "code",
      "source": [
        "# checking if there are same review multiple time\n",
        "data.review.value_counts().head(2)"
      ],
      "metadata": {
        "id": "P6olf872345L",
        "colab": {
          "base_uri": "https://localhost:8080/",
          "height": 300
        },
        "outputId": "2d3eaf63-3ac2-4981-ffdf-128649cdb2e1"
      },
      "execution_count": null,
      "outputs": [
        {
          "output_type": "execute_result",
          "data": {
            "text/plain": [
              "review\n",
              "Loved today's show!!! It was a variety and not solely cooking (which would have been great too). Very stimulating and captivating, always keeping the viewer peeking around the corner to see what was coming up next. She is as down to earth and as personable as you get, like one of us which made the show all the more enjoyable. Special guests, who are friends as well made for a nice surprise too. Loved the 'first' theme and that the audience was invited to play along too. I must admit I was shocked to see her come in under her time limits on a few things, but she did it and by golly I'll be writing those recipes down. Saving time in the kitchen means more time with family. Those who haven't tuned in yet, find out what channel and the time, I assure you that you won't be disappointed.                                                                                                                                                                                                                                  5\n",
              "Hilarious, clean, light-hearted, and quote-worthy. What else can you ask for in a film? This is my all-time, number one favorite movie. Ever since I was a little girl, I've dreamed of owning a blue van with flames and an observation bubble.<br /><br />The cliché characters in ridiculous situations are what make this film such great fun. The wonderful comedic chemistry between Stephen Furst (Harold) and Andy Tennant (Melio) make up most of my favorite parts of the movie. And who didn't love the hopeless awkwardness of Flynch? Don't forget the airport antics of Leon's cronies, dressed up as Hari Krishnas: dancing, chanting and playing the tambourine--unbeatable! The clues are genius, the locations are classic, and the plot is timeless.<br /><br />A word to the wise, if you didn't watch this film when you were little, it probably won't win a place in your heart today. But nevertheless give it a chance, you may find that \"It doesn't matter what you say, it doesn't matter what you do, you've gotta play.\"    4\n",
              "Name: count, dtype: int64"
            ],
            "text/html": [
              "<div>\n",
              "<style scoped>\n",
              "    .dataframe tbody tr th:only-of-type {\n",
              "        vertical-align: middle;\n",
              "    }\n",
              "\n",
              "    .dataframe tbody tr th {\n",
              "        vertical-align: top;\n",
              "    }\n",
              "\n",
              "    .dataframe thead th {\n",
              "        text-align: right;\n",
              "    }\n",
              "</style>\n",
              "<table border=\"1\" class=\"dataframe\">\n",
              "  <thead>\n",
              "    <tr style=\"text-align: right;\">\n",
              "      <th></th>\n",
              "      <th>count</th>\n",
              "    </tr>\n",
              "    <tr>\n",
              "      <th>review</th>\n",
              "      <th></th>\n",
              "    </tr>\n",
              "  </thead>\n",
              "  <tbody>\n",
              "    <tr>\n",
              "      <th>Loved today's show!!! It was a variety and not solely cooking (which would have been great too). Very stimulating and captivating, always keeping the viewer peeking around the corner to see what was coming up next. She is as down to earth and as personable as you get, like one of us which made the show all the more enjoyable. Special guests, who are friends as well made for a nice surprise too. Loved the 'first' theme and that the audience was invited to play along too. I must admit I was shocked to see her come in under her time limits on a few things, but she did it and by golly I'll be writing those recipes down. Saving time in the kitchen means more time with family. Those who haven't tuned in yet, find out what channel and the time, I assure you that you won't be disappointed.</th>\n",
              "      <td>5</td>\n",
              "    </tr>\n",
              "    <tr>\n",
              "      <th>Hilarious, clean, light-hearted, and quote-worthy. What else can you ask for in a film? This is my all-time, number one favorite movie. Ever since I was a little girl, I've dreamed of owning a blue van with flames and an observation bubble.&lt;br /&gt;&lt;br /&gt;The cliché characters in ridiculous situations are what make this film such great fun. The wonderful comedic chemistry between Stephen Furst (Harold) and Andy Tennant (Melio) make up most of my favorite parts of the movie. And who didn't love the hopeless awkwardness of Flynch? Don't forget the airport antics of Leon's cronies, dressed up as Hari Krishnas: dancing, chanting and playing the tambourine--unbeatable! The clues are genius, the locations are classic, and the plot is timeless.&lt;br /&gt;&lt;br /&gt;A word to the wise, if you didn't watch this film when you were little, it probably won't win a place in your heart today. But nevertheless give it a chance, you may find that \"It doesn't matter what you say, it doesn't matter what you do, you've gotta play.\"</th>\n",
              "      <td>4</td>\n",
              "    </tr>\n",
              "  </tbody>\n",
              "</table>\n",
              "</div><br><label><b>dtype:</b> int64</label>"
            ]
          },
          "metadata": {},
          "execution_count": 6
        }
      ]
    },
    {
      "cell_type": "code",
      "source": [
        "# droping duplicate values from data\n",
        "data.drop_duplicates(inplace=True)"
      ],
      "metadata": {
        "id": "BfXzxXXo3-1H"
      },
      "execution_count": null,
      "outputs": []
    },
    {
      "cell_type": "code",
      "source": [
        "# checking the first line of review\n",
        "data.review[0]"
      ],
      "metadata": {
        "id": "nek2VNs84Ijj",
        "colab": {
          "base_uri": "https://localhost:8080/",
          "height": 88
        },
        "outputId": "50e89968-1323-4c18-ccc3-5a824b20faf7"
      },
      "execution_count": null,
      "outputs": [
        {
          "output_type": "execute_result",
          "data": {
            "text/plain": [
              "\"I went and saw this movie last night after being coaxed to by a few friends of mine. I'll admit that I was reluctant to see it because from what I knew of Ashton Kutcher he was only able to do comedy. I was wrong. Kutcher played the character of Jake Fischer very well, and Kevin Costner played Ben Randall with such professionalism. The sign of a good movie is that it can toy with our emotions. This one did exactly that. The entire theater (which was sold out) was overcome by laughter during the first half of the movie, and were moved to tears during the second half. While exiting the theater I not only saw many women in tears, but many full grown men as well, trying desperately not to let anyone see them crying. This movie was great, and I suggest that you go see it before you judge.\""
            ],
            "application/vnd.google.colaboratory.intrinsic+json": {
              "type": "string"
            }
          },
          "metadata": {},
          "execution_count": 8
        }
      ]
    },
    {
      "cell_type": "markdown",
      "source": [
        "Here's a breakdown of each step in the `clean_review` function for cleaning text:\n",
        "\n",
        "1. **Importing Libraries:**\n",
        "   ```python\n",
        "   import nltk\n",
        "   nltk.download('stopwords')\n",
        "   from nltk.tokenize import word_tokenize\n",
        "   from nltk.corpus import stopwords\n",
        "   from nltk.stem.porter import PorterStemmer\n",
        "   from bs4 import BeautifulSoup\n",
        "   ```\n",
        "   - **nltk:** The Natural Language Toolkit for various text processing tasks.\n",
        "   - **BeautifulSoup:** A library for parsing HTML and XML documents.\n",
        "\n",
        "2. **Function Definition:**\n",
        "   ```python\n",
        "   def clean_review(review, stemmer = PorterStemmer(), stop_words = set(stopwords.words(\"english\"))):\n",
        "   ```\n",
        "   - **Function Name:** `clean_review`.\n",
        "   - **Parameters:**\n",
        "     - `review`: The text that needs to be cleaned.\n",
        "     - `stemmer`: An instance of the PorterStemmer for stemming words (default is `PorterStemmer()`).\n",
        "     - `stop_words`: A set of common English stopwords to be excluded (default is the English stopwords from NLTK).\n",
        "\n",
        "3. **Removing HTML Tags:**\n",
        "   ```python\n",
        "   soup = BeautifulSoup(review, \"html.parser\")\n",
        "   no_html_review = soup.get_text().lower()\n",
        "   ```\n",
        "   - **`BeautifulSoup(review, \"html.parser\")`:** Parses the input `review` text to handle HTML content.\n",
        "   - **`soup.get_text().lower()`:** Extracts the text from the HTML and converts it to lowercase to ensure uniformity.\n",
        "\n",
        "4. **Initializing a List for Clean Words:**\n",
        "   ```python\n",
        "   clean_text = []\n",
        "   ```\n",
        "   - **`clean_text`:** An empty list to store words after processing.\n",
        "\n",
        "5. **Cleaning and Stemming Words:**\n",
        "   ```python\n",
        "   for word in no_html_review.split():\n",
        "       if word not in stop_words and word.isalpha():\n",
        "           clean_text.append(stemmer.stem(word))\n",
        "   ```\n",
        "   - **`no_html_review.split()`:** Splits the cleaned review text into individual words.\n",
        "   - **`if word not in stop_words and word.isalpha()`:** Checks if the word is not a stopword and contains only alphabetic characters (i.e., excludes punctuation and numbers).\n",
        "   - **`stemmer.stem(word)`:** Applies stemming to reduce the word to its root form.\n",
        "   - **`clean_text.append(stemmer.stem(word))`:** Adds the cleaned and stemmed word to the `clean_text` list.\n",
        "\n",
        "6. **Returning Cleaned Text:**\n",
        "   ```python\n",
        "   return \" \".join(clean_text)\n",
        "   ```\n",
        "   - **`\" \".join(clean_text)`:** Joins the list of cleaned words into a single string separated by spaces.\n",
        "   - **`return`:** Returns the cleaned text as the output of the function.\n",
        "\n",
        "This function systematically cleans a text review by removing HTML tags, converting text to lowercase, eliminating stopwords and non-alphabetic characters, applying stemming, and then reconstructing the cleaned text."
      ],
      "metadata": {
        "id": "NidlzRl4arSc"
      }
    },
    {
      "cell_type": "code",
      "source": [
        "# importing libraries for cleanning text\n",
        "import nltk\n",
        "nltk.download('stopwords')\n",
        "from nltk.tokenize import word_tokenize\n",
        "from nltk.corpus import stopwords\n",
        "from nltk.stem.porter import PorterStemmer\n",
        "from bs4 import BeautifulSoup\n",
        "\n",
        "# function to clean whole text\n",
        "def clean_review(review, stemmer = PorterStemmer(), stop_words = set(stopwords.words(\"english\"))):\n",
        "    #removing html tags from reviews\n",
        "    soup = BeautifulSoup(review, \"html.parser\")\n",
        "    no_html_review = soup.get_text().lower()\n",
        "\n",
        "    # empty list for adding clean words\n",
        "    clean_text = []\n",
        "    # cleaning stopwords and not alpha characters\n",
        "    for word in no_html_review.split():\n",
        "        if word not in stop_words and word.isalpha():\n",
        "            clean_text.append(stemmer.stem(word))\n",
        "\n",
        "    return \" \".join(clean_text)"
      ],
      "metadata": {
        "id": "zjliSPeP4P6n",
        "colab": {
          "base_uri": "https://localhost:8080/"
        },
        "outputId": "3c356336-6480-43ab-b4e2-eac936f388a5"
      },
      "execution_count": null,
      "outputs": [
        {
          "output_type": "stream",
          "name": "stderr",
          "text": [
            "[nltk_data] Downloading package stopwords to /root/nltk_data...\n",
            "[nltk_data]   Unzipping corpora/stopwords.zip.\n"
          ]
        }
      ]
    },
    {
      "cell_type": "code",
      "source": [
        "# cleaning whole review of dataset\n",
        "%time\n",
        "data.review = data.review.apply(clean_review)"
      ],
      "metadata": {
        "id": "mN55C84R4RZT",
        "colab": {
          "base_uri": "https://localhost:8080/"
        },
        "outputId": "7c376f53-9917-448e-c32c-37bcc12fc4eb"
      },
      "execution_count": null,
      "outputs": [
        {
          "output_type": "stream",
          "name": "stdout",
          "text": [
            "CPU times: user 4 µs, sys: 0 ns, total: 4 µs\n",
            "Wall time: 9.3 µs\n"
          ]
        },
        {
          "output_type": "stream",
          "name": "stderr",
          "text": [
            "<ipython-input-9-4a4e4826158d>:12: MarkupResemblesLocatorWarning: The input looks more like a filename than markup. You may want to open this file and pass the filehandle into Beautiful Soup.\n",
            "  soup = BeautifulSoup(review, \"html.parser\")\n"
          ]
        }
      ]
    },
    {
      "cell_type": "code",
      "source": [
        "#checking the clean review in specific locaion\n",
        "data.review.iloc[3537]"
      ],
      "metadata": {
        "id": "xkyQgBWy4bHs",
        "colab": {
          "base_uri": "https://localhost:8080/",
          "height": 70
        },
        "outputId": "e401de56-4990-48ea-95c9-9535cac5aeb7"
      },
      "execution_count": null,
      "outputs": [
        {
          "output_type": "execute_result",
          "data": {
            "text/plain": [
              "'imdb forc review type certain amount realli want say incred consid film fan without seen ought trust one stop read review get movi push type let point edg contain still may well rank crispin funniest best perform follow crispin glover know alon justifi give funni line edg contain memor perform denni career one blue realli denni hopper realli edg contain best perform keanu role born plenti good one particular realli realli listen close charact talk one best stoner much tend show drama section funniest drama'"
            ],
            "application/vnd.google.colaboratory.intrinsic+json": {
              "type": "string"
            }
          },
          "metadata": {},
          "execution_count": 11
        }
      ]
    },
    {
      "cell_type": "code",
      "source": [
        "# how the data looks like now\n",
        "data"
      ],
      "metadata": {
        "id": "v49lpPpT8mSm",
        "colab": {
          "base_uri": "https://localhost:8080/",
          "height": 424
        },
        "outputId": "e07fbb6c-9d91-4804-de87-a6676a4d5c8a"
      },
      "execution_count": null,
      "outputs": [
        {
          "output_type": "execute_result",
          "data": {
            "text/plain": [
              "                                                  review  sentiment\n",
              "0      went saw movi last night coax friend admit rel...          1\n",
              "1      actor turn director bill paxton follow promis ...          1\n",
              "2      recreat golfer knowledg pleas sensit issu clas...          1\n",
              "3      saw film sneak cinematographi unusu act stori ...          1\n",
              "4      bill paxton taken true stori us golf open made...          1\n",
              "...                                                  ...        ...\n",
              "49995  toward end felt felt like classroom watch navi...          0\n",
              "49996  kind movi enemi content watch bloodi watch mak...          0\n",
              "49997  saw last night stockholm film festiv one huge ...          0\n",
              "49998  film pick pound turn rather good centuri film ...          0\n",
              "49999  one dumbest ever rip nearli ever type thriller...          0\n",
              "\n",
              "[49582 rows x 2 columns]"
            ],
            "text/html": [
              "\n",
              "  <div id=\"df-1aa51856-9e23-4dd3-8d22-e80d33880d15\" class=\"colab-df-container\">\n",
              "    <div>\n",
              "<style scoped>\n",
              "    .dataframe tbody tr th:only-of-type {\n",
              "        vertical-align: middle;\n",
              "    }\n",
              "\n",
              "    .dataframe tbody tr th {\n",
              "        vertical-align: top;\n",
              "    }\n",
              "\n",
              "    .dataframe thead th {\n",
              "        text-align: right;\n",
              "    }\n",
              "</style>\n",
              "<table border=\"1\" class=\"dataframe\">\n",
              "  <thead>\n",
              "    <tr style=\"text-align: right;\">\n",
              "      <th></th>\n",
              "      <th>review</th>\n",
              "      <th>sentiment</th>\n",
              "    </tr>\n",
              "  </thead>\n",
              "  <tbody>\n",
              "    <tr>\n",
              "      <th>0</th>\n",
              "      <td>went saw movi last night coax friend admit rel...</td>\n",
              "      <td>1</td>\n",
              "    </tr>\n",
              "    <tr>\n",
              "      <th>1</th>\n",
              "      <td>actor turn director bill paxton follow promis ...</td>\n",
              "      <td>1</td>\n",
              "    </tr>\n",
              "    <tr>\n",
              "      <th>2</th>\n",
              "      <td>recreat golfer knowledg pleas sensit issu clas...</td>\n",
              "      <td>1</td>\n",
              "    </tr>\n",
              "    <tr>\n",
              "      <th>3</th>\n",
              "      <td>saw film sneak cinematographi unusu act stori ...</td>\n",
              "      <td>1</td>\n",
              "    </tr>\n",
              "    <tr>\n",
              "      <th>4</th>\n",
              "      <td>bill paxton taken true stori us golf open made...</td>\n",
              "      <td>1</td>\n",
              "    </tr>\n",
              "    <tr>\n",
              "      <th>...</th>\n",
              "      <td>...</td>\n",
              "      <td>...</td>\n",
              "    </tr>\n",
              "    <tr>\n",
              "      <th>49995</th>\n",
              "      <td>toward end felt felt like classroom watch navi...</td>\n",
              "      <td>0</td>\n",
              "    </tr>\n",
              "    <tr>\n",
              "      <th>49996</th>\n",
              "      <td>kind movi enemi content watch bloodi watch mak...</td>\n",
              "      <td>0</td>\n",
              "    </tr>\n",
              "    <tr>\n",
              "      <th>49997</th>\n",
              "      <td>saw last night stockholm film festiv one huge ...</td>\n",
              "      <td>0</td>\n",
              "    </tr>\n",
              "    <tr>\n",
              "      <th>49998</th>\n",
              "      <td>film pick pound turn rather good centuri film ...</td>\n",
              "      <td>0</td>\n",
              "    </tr>\n",
              "    <tr>\n",
              "      <th>49999</th>\n",
              "      <td>one dumbest ever rip nearli ever type thriller...</td>\n",
              "      <td>0</td>\n",
              "    </tr>\n",
              "  </tbody>\n",
              "</table>\n",
              "<p>49582 rows × 2 columns</p>\n",
              "</div>\n",
              "    <div class=\"colab-df-buttons\">\n",
              "\n",
              "  <div class=\"colab-df-container\">\n",
              "    <button class=\"colab-df-convert\" onclick=\"convertToInteractive('df-1aa51856-9e23-4dd3-8d22-e80d33880d15')\"\n",
              "            title=\"Convert this dataframe to an interactive table.\"\n",
              "            style=\"display:none;\">\n",
              "\n",
              "  <svg xmlns=\"http://www.w3.org/2000/svg\" height=\"24px\" viewBox=\"0 -960 960 960\">\n",
              "    <path d=\"M120-120v-720h720v720H120Zm60-500h600v-160H180v160Zm220 220h160v-160H400v160Zm0 220h160v-160H400v160ZM180-400h160v-160H180v160Zm440 0h160v-160H620v160ZM180-180h160v-160H180v160Zm440 0h160v-160H620v160Z\"/>\n",
              "  </svg>\n",
              "    </button>\n",
              "\n",
              "  <style>\n",
              "    .colab-df-container {\n",
              "      display:flex;\n",
              "      gap: 12px;\n",
              "    }\n",
              "\n",
              "    .colab-df-convert {\n",
              "      background-color: #E8F0FE;\n",
              "      border: none;\n",
              "      border-radius: 50%;\n",
              "      cursor: pointer;\n",
              "      display: none;\n",
              "      fill: #1967D2;\n",
              "      height: 32px;\n",
              "      padding: 0 0 0 0;\n",
              "      width: 32px;\n",
              "    }\n",
              "\n",
              "    .colab-df-convert:hover {\n",
              "      background-color: #E2EBFA;\n",
              "      box-shadow: 0px 1px 2px rgba(60, 64, 67, 0.3), 0px 1px 3px 1px rgba(60, 64, 67, 0.15);\n",
              "      fill: #174EA6;\n",
              "    }\n",
              "\n",
              "    .colab-df-buttons div {\n",
              "      margin-bottom: 4px;\n",
              "    }\n",
              "\n",
              "    [theme=dark] .colab-df-convert {\n",
              "      background-color: #3B4455;\n",
              "      fill: #D2E3FC;\n",
              "    }\n",
              "\n",
              "    [theme=dark] .colab-df-convert:hover {\n",
              "      background-color: #434B5C;\n",
              "      box-shadow: 0px 1px 3px 1px rgba(0, 0, 0, 0.15);\n",
              "      filter: drop-shadow(0px 1px 2px rgba(0, 0, 0, 0.3));\n",
              "      fill: #FFFFFF;\n",
              "    }\n",
              "  </style>\n",
              "\n",
              "    <script>\n",
              "      const buttonEl =\n",
              "        document.querySelector('#df-1aa51856-9e23-4dd3-8d22-e80d33880d15 button.colab-df-convert');\n",
              "      buttonEl.style.display =\n",
              "        google.colab.kernel.accessAllowed ? 'block' : 'none';\n",
              "\n",
              "      async function convertToInteractive(key) {\n",
              "        const element = document.querySelector('#df-1aa51856-9e23-4dd3-8d22-e80d33880d15');\n",
              "        const dataTable =\n",
              "          await google.colab.kernel.invokeFunction('convertToInteractive',\n",
              "                                                    [key], {});\n",
              "        if (!dataTable) return;\n",
              "\n",
              "        const docLinkHtml = 'Like what you see? Visit the ' +\n",
              "          '<a target=\"_blank\" href=https://colab.research.google.com/notebooks/data_table.ipynb>data table notebook</a>'\n",
              "          + ' to learn more about interactive tables.';\n",
              "        element.innerHTML = '';\n",
              "        dataTable['output_type'] = 'display_data';\n",
              "        await google.colab.output.renderOutput(dataTable, element);\n",
              "        const docLink = document.createElement('div');\n",
              "        docLink.innerHTML = docLinkHtml;\n",
              "        element.appendChild(docLink);\n",
              "      }\n",
              "    </script>\n",
              "  </div>\n",
              "\n",
              "\n",
              "<div id=\"df-e4670f3a-82c8-4d33-906d-2d6262396160\">\n",
              "  <button class=\"colab-df-quickchart\" onclick=\"quickchart('df-e4670f3a-82c8-4d33-906d-2d6262396160')\"\n",
              "            title=\"Suggest charts\"\n",
              "            style=\"display:none;\">\n",
              "\n",
              "<svg xmlns=\"http://www.w3.org/2000/svg\" height=\"24px\"viewBox=\"0 0 24 24\"\n",
              "     width=\"24px\">\n",
              "    <g>\n",
              "        <path d=\"M19 3H5c-1.1 0-2 .9-2 2v14c0 1.1.9 2 2 2h14c1.1 0 2-.9 2-2V5c0-1.1-.9-2-2-2zM9 17H7v-7h2v7zm4 0h-2V7h2v10zm4 0h-2v-4h2v4z\"/>\n",
              "    </g>\n",
              "</svg>\n",
              "  </button>\n",
              "\n",
              "<style>\n",
              "  .colab-df-quickchart {\n",
              "      --bg-color: #E8F0FE;\n",
              "      --fill-color: #1967D2;\n",
              "      --hover-bg-color: #E2EBFA;\n",
              "      --hover-fill-color: #174EA6;\n",
              "      --disabled-fill-color: #AAA;\n",
              "      --disabled-bg-color: #DDD;\n",
              "  }\n",
              "\n",
              "  [theme=dark] .colab-df-quickchart {\n",
              "      --bg-color: #3B4455;\n",
              "      --fill-color: #D2E3FC;\n",
              "      --hover-bg-color: #434B5C;\n",
              "      --hover-fill-color: #FFFFFF;\n",
              "      --disabled-bg-color: #3B4455;\n",
              "      --disabled-fill-color: #666;\n",
              "  }\n",
              "\n",
              "  .colab-df-quickchart {\n",
              "    background-color: var(--bg-color);\n",
              "    border: none;\n",
              "    border-radius: 50%;\n",
              "    cursor: pointer;\n",
              "    display: none;\n",
              "    fill: var(--fill-color);\n",
              "    height: 32px;\n",
              "    padding: 0;\n",
              "    width: 32px;\n",
              "  }\n",
              "\n",
              "  .colab-df-quickchart:hover {\n",
              "    background-color: var(--hover-bg-color);\n",
              "    box-shadow: 0 1px 2px rgba(60, 64, 67, 0.3), 0 1px 3px 1px rgba(60, 64, 67, 0.15);\n",
              "    fill: var(--button-hover-fill-color);\n",
              "  }\n",
              "\n",
              "  .colab-df-quickchart-complete:disabled,\n",
              "  .colab-df-quickchart-complete:disabled:hover {\n",
              "    background-color: var(--disabled-bg-color);\n",
              "    fill: var(--disabled-fill-color);\n",
              "    box-shadow: none;\n",
              "  }\n",
              "\n",
              "  .colab-df-spinner {\n",
              "    border: 2px solid var(--fill-color);\n",
              "    border-color: transparent;\n",
              "    border-bottom-color: var(--fill-color);\n",
              "    animation:\n",
              "      spin 1s steps(1) infinite;\n",
              "  }\n",
              "\n",
              "  @keyframes spin {\n",
              "    0% {\n",
              "      border-color: transparent;\n",
              "      border-bottom-color: var(--fill-color);\n",
              "      border-left-color: var(--fill-color);\n",
              "    }\n",
              "    20% {\n",
              "      border-color: transparent;\n",
              "      border-left-color: var(--fill-color);\n",
              "      border-top-color: var(--fill-color);\n",
              "    }\n",
              "    30% {\n",
              "      border-color: transparent;\n",
              "      border-left-color: var(--fill-color);\n",
              "      border-top-color: var(--fill-color);\n",
              "      border-right-color: var(--fill-color);\n",
              "    }\n",
              "    40% {\n",
              "      border-color: transparent;\n",
              "      border-right-color: var(--fill-color);\n",
              "      border-top-color: var(--fill-color);\n",
              "    }\n",
              "    60% {\n",
              "      border-color: transparent;\n",
              "      border-right-color: var(--fill-color);\n",
              "    }\n",
              "    80% {\n",
              "      border-color: transparent;\n",
              "      border-right-color: var(--fill-color);\n",
              "      border-bottom-color: var(--fill-color);\n",
              "    }\n",
              "    90% {\n",
              "      border-color: transparent;\n",
              "      border-bottom-color: var(--fill-color);\n",
              "    }\n",
              "  }\n",
              "</style>\n",
              "\n",
              "  <script>\n",
              "    async function quickchart(key) {\n",
              "      const quickchartButtonEl =\n",
              "        document.querySelector('#' + key + ' button');\n",
              "      quickchartButtonEl.disabled = true;  // To prevent multiple clicks.\n",
              "      quickchartButtonEl.classList.add('colab-df-spinner');\n",
              "      try {\n",
              "        const charts = await google.colab.kernel.invokeFunction(\n",
              "            'suggestCharts', [key], {});\n",
              "      } catch (error) {\n",
              "        console.error('Error during call to suggestCharts:', error);\n",
              "      }\n",
              "      quickchartButtonEl.classList.remove('colab-df-spinner');\n",
              "      quickchartButtonEl.classList.add('colab-df-quickchart-complete');\n",
              "    }\n",
              "    (() => {\n",
              "      let quickchartButtonEl =\n",
              "        document.querySelector('#df-e4670f3a-82c8-4d33-906d-2d6262396160 button');\n",
              "      quickchartButtonEl.style.display =\n",
              "        google.colab.kernel.accessAllowed ? 'block' : 'none';\n",
              "    })();\n",
              "  </script>\n",
              "</div>\n",
              "    </div>\n",
              "  </div>\n"
            ],
            "application/vnd.google.colaboratory.intrinsic+json": {
              "type": "dataframe",
              "variable_name": "data",
              "summary": "{\n  \"name\": \"data\",\n  \"rows\": 49582,\n  \"fields\": [\n    {\n      \"column\": \"review\",\n      \"properties\": {\n        \"dtype\": \"string\",\n        \"num_unique_values\": 49572,\n        \"samples\": [\n          \"rememb view movi recal terrifi immens stay spent coupl year tri find rememb search came across vh sold excit final jam vcr help feel bit needless slightli movi rememb watch bore time found beryl incess whin extrem perform reid flora robson good overal movi think movi worth view form opinion\",\n          \"saw film tv mani year ago saw film got thought reason well best good movi enough talent inspir mani especi younger act danni glover lead plot line script well movi also interest avid basebal directli appli sport directli appli nice film watch famili learn messag hidden film give movi\",\n          \"brain die one thought low budget exploit film earli difficult imagin script repuls sexist could written without intent theme express repeatedli femal ginni leith detach head kept aliv clamp seem confirm film meant simultan exploit critiqu gender shade box gender irrit armi angri dialog act mere ok given film thought clearli went realli sure point film realli tri seem clear strive unusu edgi raw sort horror blood gut audienc uniqu interest aspect brain realli hero none charact particularli fairli pain disturb look earli american pop viewpoint woman kept aliv despit miss bodi fatal car lover threaten sew high bodi onto forc continu live understand forc befriend creatur almost monstrou also vagu refer clich\\u00e9 evil scienc run b sci fi buff graduat student gender\"\n        ],\n        \"semantic_type\": \"\",\n        \"description\": \"\"\n      }\n    },\n    {\n      \"column\": \"sentiment\",\n      \"properties\": {\n        \"dtype\": \"number\",\n        \"std\": 0,\n        \"min\": 0,\n        \"max\": 1,\n        \"num_unique_values\": 2,\n        \"samples\": [\n          0,\n          1\n        ],\n        \"semantic_type\": \"\",\n        \"description\": \"\"\n      }\n    }\n  ]\n}"
            }
          },
          "metadata": {},
          "execution_count": 12
        }
      ]
    },
    {
      "cell_type": "markdown",
      "source": [
        "## **STEP3 – TRANSFORMATION**\n",
        "\n",
        "To prepare text data for machine learning, we use the `CountVectorizer` from `sklearn.feature_extraction.text`. The `CountVectorizer` transforms the reviews into a matrix of token counts, which serves as numerical input for machine learning models. By setting the parameter `max_features=5000`, we limit the model to only consider the 5,000 most frequent words across all reviews, reducing the feature space and focusing on the most significant terms. After fitting the `CountVectorizer` on the `data.review` column, the resulting transformed text data is stored in `X` as an array, which will be used as input features for model training.\n",
        "\n",
        "Next, we utilize the `LabelEncoder` from `sklearn.preprocessing` to convert the sentiment labels in the dataset into binary values. In this encoding, positive reviews are labeled as `1`, while negative reviews are labeled as `0`. This encoding is crucial for binary classification tasks, where the model needs to distinguish between positive and negative sentiments. The transformed sentiment data is stored in `y`, which will serve as the target variable for the machine learning model, enabling it to learn the relationship between the review content and the corresponding sentiment."
      ],
      "metadata": {
        "id": "KR1UWing4fgQ"
      }
    },
    {
      "cell_type": "code",
      "source": [
        "# verctorizing reviews\n",
        "#import CountVectorizer\n",
        "from sklearn.feature_extraction.text import CountVectorizer\n",
        "\n",
        "# setting max_features to 5000 to get most repeated 5000 words in reviews\n",
        "cv = CountVectorizer(max_features=5000)\n",
        "\n",
        "cv"
      ],
      "metadata": {
        "id": "CV_26vJa4g1n",
        "colab": {
          "base_uri": "https://localhost:8080/",
          "height": 75
        },
        "outputId": "66fbca3b-83ef-4f1b-c5f2-78d873cc42c1"
      },
      "execution_count": null,
      "outputs": [
        {
          "output_type": "execute_result",
          "data": {
            "text/plain": [
              "CountVectorizer(max_features=5000)"
            ],
            "text/html": [
              "<style>#sk-container-id-2 {color: black;}#sk-container-id-2 pre{padding: 0;}#sk-container-id-2 div.sk-toggleable {background-color: white;}#sk-container-id-2 label.sk-toggleable__label {cursor: pointer;display: block;width: 100%;margin-bottom: 0;padding: 0.3em;box-sizing: border-box;text-align: center;}#sk-container-id-2 label.sk-toggleable__label-arrow:before {content: \"▸\";float: left;margin-right: 0.25em;color: #696969;}#sk-container-id-2 label.sk-toggleable__label-arrow:hover:before {color: black;}#sk-container-id-2 div.sk-estimator:hover label.sk-toggleable__label-arrow:before {color: black;}#sk-container-id-2 div.sk-toggleable__content {max-height: 0;max-width: 0;overflow: hidden;text-align: left;background-color: #f0f8ff;}#sk-container-id-2 div.sk-toggleable__content pre {margin: 0.2em;color: black;border-radius: 0.25em;background-color: #f0f8ff;}#sk-container-id-2 input.sk-toggleable__control:checked~div.sk-toggleable__content {max-height: 200px;max-width: 100%;overflow: auto;}#sk-container-id-2 input.sk-toggleable__control:checked~label.sk-toggleable__label-arrow:before {content: \"▾\";}#sk-container-id-2 div.sk-estimator input.sk-toggleable__control:checked~label.sk-toggleable__label {background-color: #d4ebff;}#sk-container-id-2 div.sk-label input.sk-toggleable__control:checked~label.sk-toggleable__label {background-color: #d4ebff;}#sk-container-id-2 input.sk-hidden--visually {border: 0;clip: rect(1px 1px 1px 1px);clip: rect(1px, 1px, 1px, 1px);height: 1px;margin: -1px;overflow: hidden;padding: 0;position: absolute;width: 1px;}#sk-container-id-2 div.sk-estimator {font-family: monospace;background-color: #f0f8ff;border: 1px dotted black;border-radius: 0.25em;box-sizing: border-box;margin-bottom: 0.5em;}#sk-container-id-2 div.sk-estimator:hover {background-color: #d4ebff;}#sk-container-id-2 div.sk-parallel-item::after {content: \"\";width: 100%;border-bottom: 1px solid gray;flex-grow: 1;}#sk-container-id-2 div.sk-label:hover label.sk-toggleable__label {background-color: #d4ebff;}#sk-container-id-2 div.sk-serial::before {content: \"\";position: absolute;border-left: 1px solid gray;box-sizing: border-box;top: 0;bottom: 0;left: 50%;z-index: 0;}#sk-container-id-2 div.sk-serial {display: flex;flex-direction: column;align-items: center;background-color: white;padding-right: 0.2em;padding-left: 0.2em;position: relative;}#sk-container-id-2 div.sk-item {position: relative;z-index: 1;}#sk-container-id-2 div.sk-parallel {display: flex;align-items: stretch;justify-content: center;background-color: white;position: relative;}#sk-container-id-2 div.sk-item::before, #sk-container-id-2 div.sk-parallel-item::before {content: \"\";position: absolute;border-left: 1px solid gray;box-sizing: border-box;top: 0;bottom: 0;left: 50%;z-index: -1;}#sk-container-id-2 div.sk-parallel-item {display: flex;flex-direction: column;z-index: 1;position: relative;background-color: white;}#sk-container-id-2 div.sk-parallel-item:first-child::after {align-self: flex-end;width: 50%;}#sk-container-id-2 div.sk-parallel-item:last-child::after {align-self: flex-start;width: 50%;}#sk-container-id-2 div.sk-parallel-item:only-child::after {width: 0;}#sk-container-id-2 div.sk-dashed-wrapped {border: 1px dashed gray;margin: 0 0.4em 0.5em 0.4em;box-sizing: border-box;padding-bottom: 0.4em;background-color: white;}#sk-container-id-2 div.sk-label label {font-family: monospace;font-weight: bold;display: inline-block;line-height: 1.2em;}#sk-container-id-2 div.sk-label-container {text-align: center;}#sk-container-id-2 div.sk-container {/* jupyter's `normalize.less` sets `[hidden] { display: none; }` but bootstrap.min.css set `[hidden] { display: none !important; }` so we also need the `!important` here to be able to override the default hidden behavior on the sphinx rendered scikit-learn.org. See: https://github.com/scikit-learn/scikit-learn/issues/21755 */display: inline-block !important;position: relative;}#sk-container-id-2 div.sk-text-repr-fallback {display: none;}</style><div id=\"sk-container-id-2\" class=\"sk-top-container\"><div class=\"sk-text-repr-fallback\"><pre>CountVectorizer(max_features=5000)</pre><b>In a Jupyter environment, please rerun this cell to show the HTML representation or trust the notebook. <br />On GitHub, the HTML representation is unable to render, please try loading this page with nbviewer.org.</b></div><div class=\"sk-container\" hidden><div class=\"sk-item\"><div class=\"sk-estimator sk-toggleable\"><input class=\"sk-toggleable__control sk-hidden--visually\" id=\"sk-estimator-id-2\" type=\"checkbox\" checked><label for=\"sk-estimator-id-2\" class=\"sk-toggleable__label sk-toggleable__label-arrow\">CountVectorizer</label><div class=\"sk-toggleable__content\"><pre>CountVectorizer(max_features=5000)</pre></div></div></div></div></div>"
            ]
          },
          "metadata": {},
          "execution_count": 15
        }
      ]
    },
    {
      "cell_type": "code",
      "source": [
        "# Fitting countvectorizer in data.review and getting X for ML\n",
        "X = cv.fit_transform(data.review).toarray()"
      ],
      "metadata": {
        "id": "if5dX23Z8puL"
      },
      "execution_count": null,
      "outputs": []
    },
    {
      "cell_type": "code",
      "source": [
        "#checking shape of out features(X)\n",
        "X.shape"
      ],
      "metadata": {
        "id": "0OOIpRLD81sT",
        "colab": {
          "base_uri": "https://localhost:8080/"
        },
        "outputId": "0fb89aea-4887-4433-a4b7-bb80ad2c7bed"
      },
      "execution_count": null,
      "outputs": [
        {
          "output_type": "execute_result",
          "data": {
            "text/plain": [
              "(49582, 5000)"
            ]
          },
          "metadata": {},
          "execution_count": 17
        }
      ]
    },
    {
      "cell_type": "code",
      "source": [
        "#Importing label encoder\n",
        "from sklearn.preprocessing import LabelEncoder\n",
        "lb = LabelEncoder()\n",
        "\n",
        "# positive = 1, negative = 0\n",
        "data.sentiment = lb.fit_transform(data.sentiment)"
      ],
      "metadata": {
        "id": "2jeUHWHo9aiJ"
      },
      "execution_count": null,
      "outputs": []
    },
    {
      "cell_type": "code",
      "source": [
        "# extracting the last column sentiment in y\n",
        "y = data.iloc[:,-1].values"
      ],
      "metadata": {
        "id": "nygP2P--9dbH"
      },
      "execution_count": null,
      "outputs": []
    },
    {
      "cell_type": "code",
      "source": [
        "y"
      ],
      "metadata": {
        "colab": {
          "base_uri": "https://localhost:8080/"
        },
        "id": "dm8RJkVEu6Mr",
        "outputId": "30609369-5c1f-4600-9ea0-b3fc95a7ec09"
      },
      "execution_count": null,
      "outputs": [
        {
          "output_type": "execute_result",
          "data": {
            "text/plain": [
              "array([1, 1, 1, ..., 0, 0, 0])"
            ]
          },
          "metadata": {},
          "execution_count": 21
        }
      ]
    },
    {
      "cell_type": "markdown",
      "source": [
        "## **STEP4 – TRAINING AMODEL ON THE DATA**\n",
        "\n",
        "\n",
        "### **Types of Machine Learning Algorithms**\n",
        "\n",
        "1. **Supervised Learning:**\n",
        "   - These are predictive algorithms that require a target variable to learn from. The target can either be a categorical feature (used in classification tasks) or a continuous variable (used in regression tasks). Supervised learning involves training a model on labeled data to make predictions on unseen data.\n",
        "\n",
        "2. **Unsupervised Learning:**\n",
        "   - Unsupervised learning is used for tasks where there is no predefined target variable. These algorithms focus on identifying patterns, relationships, and structures within the data, allowing for data summarization and insight discovery. Examples include clustering and dimensionality reduction.\n",
        "\n",
        "### **Classification Overview**\n",
        "\n",
        "**What is Classification?**\n",
        "- Classification is a supervised machine learning method used to predict the class or category of an instance (or a set of instances, known as the test dataset) using a model trained on a pre-labeled dataset (training dataset). The goal of classification is to assign a label to new, unseen data based on the patterns learned during training.\n",
        "\n",
        "#### **Types of Classification:**\n",
        "\n",
        "1. **Binary Classification:**\n",
        "   - In binary classification, there are two class labels. Common examples include:\n",
        "     - **Email Spam Detection:** Classifying emails as either spam or not spam.\n",
        "     - **Sentiment Analysis:** Determining whether the sentiment of a text is positive or negative.\n",
        "   - Popular algorithms for binary classification include:\n",
        "     - Logistic Regression\n",
        "     - k-Nearest Neighbors (k-NN)\n",
        "     - Decision Trees\n",
        "     - Support Vector Machine (SVM)\n",
        "     - Naive Bayes\n",
        "\n",
        "2. **Multi-Class Classification:**\n",
        "   - Multi-class classification tasks involve more than two class labels. Examples include:\n",
        "     - **Face Recognition:** Classifying images into different faces.\n",
        "     - **Plant Species Classification:** Categorizing plants into various species.\n",
        "     - **Optical Character Recognition (OCR):** Recognizing characters from scanned documents.\n",
        "   - Common algorithms for multi-class classification include:\n",
        "     - k-Nearest Neighbors (k-NN)\n",
        "     - Decision Trees\n",
        "     - Naive Bayes\n",
        "     - Random Forest\n",
        "     - Gradient Boosting\n",
        "\n",
        "3. **Multi-Label Classification:**\n",
        "   - Multi-label classification allows for predicting two or more class labels for each instance. Unlike binary or multi-class classification, each instance can belong to multiple classes simultaneously. An example includes:\n",
        "     - **Recommendation Systems:** Suggesting multiple items or categories for a user, such as recommending several genres of movies.\n",
        "   - Algorithms designed for multi-label classification include:\n",
        "     - Multi-label Decision Trees\n",
        "     - Multi-label Random Forests\n",
        "     - Multi-label Gradient Boosting"
      ],
      "metadata": {
        "id": "8e_6EtMI9C2v"
      }
    },
    {
      "cell_type": "markdown",
      "source": [
        "In this code, we are performing the following steps:\n",
        "\n",
        "1. **Importing Train-Test Split:**\n",
        "   ```python\n",
        "   from sklearn.model_selection import train_test_split\n",
        "   ```\n",
        "   - We import the `train_test_split` function from `sklearn.model_selection` to split the dataset into training and testing sets.\n",
        "\n",
        "2. **Splitting the Data:**\n",
        "   ```python\n",
        "   train_X, test_X, train_Y, test_Y = train_test_split(X, y, test_size=0.3, random_state=42, stratify=data.sentiment)\n",
        "   ```\n",
        "   - We split the feature matrix `X` and the target variable `y` into training and testing sets.\n",
        "   - `test_size=0.3` specifies that 30% of the data will be used for testing.\n",
        "   - `random_state=42` ensures the split is reproducible.\n",
        "   - `stratify=data.sentiment` ensures that the split maintains the same proportion of class labels in both the training and testing sets.\n",
        "\n",
        "3. **Importing Naive Bayes Models:**\n",
        "   ```python\n",
        "   from sklearn.naive_bayes import GaussianNB, MultinomialNB, BernoulliNB\n",
        "   ```\n",
        "   - We import three types of Naive Bayes classifiers from `sklearn.naive_bayes`:\n",
        "     - `GaussianNB`: Suitable for continuous data that follows a Gaussian distribution.\n",
        "     - `MultinomialNB`: Commonly used for discrete data, especially in text classification tasks.\n",
        "     - `BernoulliNB`: Used when features are binary or Boolean.\n",
        "\n",
        "4. **Creating Classifier Instances:**\n",
        "   ```python\n",
        "   clf1 = GaussianNB()\n",
        "   clf2 = MultinomialNB()\n",
        "   clf3 = BernoulliNB()\n",
        "   ```\n",
        "   - We create instances of the three Naive Bayes classifiers: `clf1`, `clf2`, and `clf3`.\n",
        "\n",
        "5. **Training the Models:**\n",
        "   ```python\n",
        "   clf1.fit(train_X, train_Y)\n",
        "   clf2.fit(train_X, train_Y)\n",
        "   clf3.fit(train_X, train_Y)\n",
        "   ```\n",
        "   - We fit each of the Naive Bayes classifiers to the training data (`train_X` and `train_Y`). This trains the models on the labeled training data so they can be used to make predictions on new, unseen data.\n",
        "\n",
        "This code sets up and trains three different Naive Bayes classifiers on the training data, each using a different approach to handling the feature distribution."
      ],
      "metadata": {
        "id": "iFr1Sr211RGn"
      }
    },
    {
      "cell_type": "code",
      "source": [
        "# importing train test split\n",
        "from sklearn.model_selection import train_test_split\n",
        "\n",
        "# converting X, y into train test split\n",
        "train_X, test_X, train_Y, test_Y = train_test_split(X, y, test_size=0.3, random_state=42, stratify=data.sentiment)"
      ],
      "metadata": {
        "id": "CZKMTbZE9EFm"
      },
      "execution_count": null,
      "outputs": []
    },
    {
      "cell_type": "code",
      "source": [
        "# importing naivebayes model\n",
        "from sklearn.naive_bayes import GaussianNB, MultinomialNB, BernoulliNB\n",
        "\n",
        "clf1 = GaussianNB()\n",
        "clf2 = MultinomialNB()\n",
        "clf3 = BernoulliNB()\n",
        "\n",
        "# training naive_bayes model with training set\n",
        "clf1.fit(train_X, train_Y)\n",
        "clf2.fit(train_X, train_Y)\n",
        "clf3.fit(train_X, train_Y)"
      ],
      "metadata": {
        "id": "YnLh8ugL9lYI",
        "colab": {
          "base_uri": "https://localhost:8080/",
          "height": 75
        },
        "outputId": "b1ef3ee1-9c54-48b0-ca6d-b60bc6ad1028"
      },
      "execution_count": null,
      "outputs": [
        {
          "output_type": "execute_result",
          "data": {
            "text/plain": [
              "BernoulliNB()"
            ],
            "text/html": [
              "<style>#sk-container-id-4 {color: black;}#sk-container-id-4 pre{padding: 0;}#sk-container-id-4 div.sk-toggleable {background-color: white;}#sk-container-id-4 label.sk-toggleable__label {cursor: pointer;display: block;width: 100%;margin-bottom: 0;padding: 0.3em;box-sizing: border-box;text-align: center;}#sk-container-id-4 label.sk-toggleable__label-arrow:before {content: \"▸\";float: left;margin-right: 0.25em;color: #696969;}#sk-container-id-4 label.sk-toggleable__label-arrow:hover:before {color: black;}#sk-container-id-4 div.sk-estimator:hover label.sk-toggleable__label-arrow:before {color: black;}#sk-container-id-4 div.sk-toggleable__content {max-height: 0;max-width: 0;overflow: hidden;text-align: left;background-color: #f0f8ff;}#sk-container-id-4 div.sk-toggleable__content pre {margin: 0.2em;color: black;border-radius: 0.25em;background-color: #f0f8ff;}#sk-container-id-4 input.sk-toggleable__control:checked~div.sk-toggleable__content {max-height: 200px;max-width: 100%;overflow: auto;}#sk-container-id-4 input.sk-toggleable__control:checked~label.sk-toggleable__label-arrow:before {content: \"▾\";}#sk-container-id-4 div.sk-estimator input.sk-toggleable__control:checked~label.sk-toggleable__label {background-color: #d4ebff;}#sk-container-id-4 div.sk-label input.sk-toggleable__control:checked~label.sk-toggleable__label {background-color: #d4ebff;}#sk-container-id-4 input.sk-hidden--visually {border: 0;clip: rect(1px 1px 1px 1px);clip: rect(1px, 1px, 1px, 1px);height: 1px;margin: -1px;overflow: hidden;padding: 0;position: absolute;width: 1px;}#sk-container-id-4 div.sk-estimator {font-family: monospace;background-color: #f0f8ff;border: 1px dotted black;border-radius: 0.25em;box-sizing: border-box;margin-bottom: 0.5em;}#sk-container-id-4 div.sk-estimator:hover {background-color: #d4ebff;}#sk-container-id-4 div.sk-parallel-item::after {content: \"\";width: 100%;border-bottom: 1px solid gray;flex-grow: 1;}#sk-container-id-4 div.sk-label:hover label.sk-toggleable__label {background-color: #d4ebff;}#sk-container-id-4 div.sk-serial::before {content: \"\";position: absolute;border-left: 1px solid gray;box-sizing: border-box;top: 0;bottom: 0;left: 50%;z-index: 0;}#sk-container-id-4 div.sk-serial {display: flex;flex-direction: column;align-items: center;background-color: white;padding-right: 0.2em;padding-left: 0.2em;position: relative;}#sk-container-id-4 div.sk-item {position: relative;z-index: 1;}#sk-container-id-4 div.sk-parallel {display: flex;align-items: stretch;justify-content: center;background-color: white;position: relative;}#sk-container-id-4 div.sk-item::before, #sk-container-id-4 div.sk-parallel-item::before {content: \"\";position: absolute;border-left: 1px solid gray;box-sizing: border-box;top: 0;bottom: 0;left: 50%;z-index: -1;}#sk-container-id-4 div.sk-parallel-item {display: flex;flex-direction: column;z-index: 1;position: relative;background-color: white;}#sk-container-id-4 div.sk-parallel-item:first-child::after {align-self: flex-end;width: 50%;}#sk-container-id-4 div.sk-parallel-item:last-child::after {align-self: flex-start;width: 50%;}#sk-container-id-4 div.sk-parallel-item:only-child::after {width: 0;}#sk-container-id-4 div.sk-dashed-wrapped {border: 1px dashed gray;margin: 0 0.4em 0.5em 0.4em;box-sizing: border-box;padding-bottom: 0.4em;background-color: white;}#sk-container-id-4 div.sk-label label {font-family: monospace;font-weight: bold;display: inline-block;line-height: 1.2em;}#sk-container-id-4 div.sk-label-container {text-align: center;}#sk-container-id-4 div.sk-container {/* jupyter's `normalize.less` sets `[hidden] { display: none; }` but bootstrap.min.css set `[hidden] { display: none !important; }` so we also need the `!important` here to be able to override the default hidden behavior on the sphinx rendered scikit-learn.org. See: https://github.com/scikit-learn/scikit-learn/issues/21755 */display: inline-block !important;position: relative;}#sk-container-id-4 div.sk-text-repr-fallback {display: none;}</style><div id=\"sk-container-id-4\" class=\"sk-top-container\"><div class=\"sk-text-repr-fallback\"><pre>BernoulliNB()</pre><b>In a Jupyter environment, please rerun this cell to show the HTML representation or trust the notebook. <br />On GitHub, the HTML representation is unable to render, please try loading this page with nbviewer.org.</b></div><div class=\"sk-container\" hidden><div class=\"sk-item\"><div class=\"sk-estimator sk-toggleable\"><input class=\"sk-toggleable__control sk-hidden--visually\" id=\"sk-estimator-id-4\" type=\"checkbox\" checked><label for=\"sk-estimator-id-4\" class=\"sk-toggleable__label sk-toggleable__label-arrow\">BernoulliNB</label><div class=\"sk-toggleable__content\"><pre>BernoulliNB()</pre></div></div></div></div></div>"
            ]
          },
          "metadata": {},
          "execution_count": 35
        }
      ]
    },
    {
      "cell_type": "code",
      "source": [
        "# predicting value for test set by all model\n",
        "predict1 = clf1.predict(test_X)\n",
        "predict2 = clf2.predict(test_X)\n",
        "predict3 = clf3.predict(test_X)\n"
      ],
      "metadata": {
        "id": "ad-qQM0m9ubM"
      },
      "execution_count": null,
      "outputs": []
    },
    {
      "cell_type": "markdown",
      "source": [
        "## **STEP5 –EVALUATION AND ANALYSIS**\n",
        "\n",
        "\n",
        "Evaluating the performance of a machine learning model is crucial to understanding how well the model generalizes to unseen data. In this case, the performance of three different Naive Bayes classifiers (Gaussian, Multinomial, and Bernoulli) is evaluated using the **accuracy score**. The accuracy score measures the proportion of correctly predicted labels out of the total number of predictions.\n",
        "\n",
        "\n",
        "In this context, the models' accuracy scores are as follows:\n",
        "\n",
        "- **Gaussian Naive Bayes Accuracy:** 0.7129\n",
        "  - This indicates that the Gaussian Naive Bayes classifier correctly predicted approximately 71.29% of the test data.\n",
        "  \n",
        "- **Multinomial Naive Bayes Accuracy:** 0.8356\n",
        "  - The Multinomial Naive Bayes classifier performed better, correctly predicting 83.56% of the test data. This is typically expected when working with text data, as Multinomial Naive Bayes is well-suited for discrete feature distributions like word counts.\n",
        "\n",
        "- **Bernoulli Naive Bayes Accuracy:** 0.8306\n",
        "  - The Bernoulli Naive Bayes classifier also performed well, with an accuracy score of 83.06%. This model is effective when features are binary (e.g., word presence/absence), which can also be beneficial for text classification tasks.\n",
        "\n",
        "### Interpretation:\n",
        "\n",
        "Accuracy is a simple yet powerful metric for evaluating classification models, especially when the class distribution is balanced. However, it does not always capture the full picture, especially in cases of imbalanced data. For such cases, other metrics such as precision, recall, and F1-score can provide a deeper understanding of model performance.\n",
        "\n",
        "In this evaluation, both the Multinomial and Bernoulli Naive Bayes classifiers perform similarly well, suggesting that they are more suitable for this particular text classification task compared to Gaussian Naive Bayes."
      ],
      "metadata": {
        "id": "vkQpYoR6z-8T"
      }
    },
    {
      "cell_type": "code",
      "source": [
        "# for accuracy score\n",
        "from sklearn.metrics import accuracy_score\n",
        "\n",
        "print(\"Gaussin NaiveBayes:\", accuracy_score(predict1, test_Y))\n",
        "print(\"Multinomial NaiveBayes:\", accuracy_score(predict2, test_Y))\n",
        "print(\"Benouli NaiveBayes:\", accuracy_score(predict3, test_Y))"
      ],
      "metadata": {
        "id": "Sdz2orhj9zJm",
        "colab": {
          "base_uri": "https://localhost:8080/"
        },
        "outputId": "dab5a5be-2825-49c7-d166-39f4ec78d513"
      },
      "execution_count": null,
      "outputs": [
        {
          "output_type": "stream",
          "name": "stdout",
          "text": [
            "Gaussin NaiveBayes: 0.7129411764705882\n",
            "Multinomial NaiveBayes: 0.8356302521008403\n",
            "Benouli NaiveBayes: 0.8305882352941176\n"
          ]
        }
      ]
    },
    {
      "cell_type": "code",
      "source": [
        "from sklearn import metrics\n",
        "confusion_matrix = metrics.confusion_matrix(test_Y, predict2)\n",
        "cm_display = metrics.ConfusionMatrixDisplay(confusion_matrix = confusion_matrix, display_labels = [False, True])"
      ],
      "metadata": {
        "id": "JT4ZIv2lqQ4Y"
      },
      "execution_count": null,
      "outputs": []
    },
    {
      "cell_type": "code",
      "source": [
        "import matplotlib.pyplot as plt\n",
        "cm_display.plot()\n",
        "plt.show()"
      ],
      "metadata": {
        "id": "gbpWxT13qoiF",
        "colab": {
          "base_uri": "https://localhost:8080/",
          "height": 449
        },
        "outputId": "8a6a4b2b-d5c5-4788-95f5-a84030235138"
      },
      "execution_count": null,
      "outputs": [
        {
          "output_type": "display_data",
          "data": {
            "text/plain": [
              "<Figure size 640x480 with 2 Axes>"
            ],
            "image/png": "[encoded data removed]"
          },
          "metadata": {}
        }
      ]
    },
    {
      "cell_type": "code",
      "source": [
        "#metrics\n",
        "from sklearn.metrics import classification_report\n",
        "report = classification_report(test_Y, predict1)\n",
        "print(report)"
      ],
      "metadata": {
        "id": "wIGqYwfzqObY",
        "colab": {
          "base_uri": "https://localhost:8080/"
        },
        "outputId": "3d5edef9-738d-4352-8b22-be9b6ddeecc3"
      },
      "execution_count": null,
      "outputs": [
        {
          "output_type": "stream",
          "name": "stdout",
          "text": [
            "              precision    recall  f1-score   support\n",
            "\n",
            "           0       0.67      0.84      0.74      7410\n",
            "           1       0.79      0.59      0.67      7465\n",
            "\n",
            "    accuracy                           0.71     14875\n",
            "   macro avg       0.73      0.71      0.71     14875\n",
            "weighted avg       0.73      0.71      0.71     14875\n",
            "\n"
          ]
        }
      ]
    }
  ]
}